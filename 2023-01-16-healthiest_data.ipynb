{
 "cells": [
  {
   "attachments": {},
   "cell_type": "markdown",
   "metadata": {},
   "source": [
    "# Food Data Table\n",
    "\n",
    "## Insert New Food Item\n",
    "<table>\n",
    "    <tr>\n",
    "        <th><label for=\"Food\">Food</label></th>\n",
    "        <th><label for=\"Restaurant\">Restaurant</label></th>\n",
    "        <th><label for=\"Protein\">Protein</label></th>\n",
    "        <th><label for=\"Fat\">Fat</label></th>\n",
    "        <th><label for=\"Sugar\">Sugar</label></th>\n",
    "        <th><label for=\"Carbs\">Carbs</label></th>\n",
    "    </tr>\n",
    "    <tr>\n",
    "        <td><input type=\"text\" size=\"20\" name=\"Food name\" id=\"Food\" placeholder=\"Food\" required></td>\n",
    "        <td><input type=\"text\" size=\"10\" name=\"Restaurant\" id=\"Restaurant\" placeholder=\"Restaurant\" required></td>\n",
    "        <td><input type=\"text\" size=\"5\" name=\"Protein\" id=\"Protein\" placeholder=\"Protein\" required></td>\n",
    "        <td><input type=\"text\" size=\"5\" name=\"Fat\" id=\"Fat\" placeholder=\"Fat\" required></td>\n",
    "        <td><input type=\"text\" size=\"5\" name=\"Sugar\" id=\"Sugar\" placeholder=\"Sugar\" required></td>\n",
    "        <td><input type=\"text\" size=\"5\" name=\"Carbs\" id=\"Carbs\" placeholder=\"Carbs\" required></td>\n",
    "        <td ><button onclick=\"create_User()\">Create</button></td>\n",
    "    </tr>\n",
    "</table>"
   ]
  },
  {
   "attachments": {},
   "cell_type": "markdown",
   "metadata": {},
   "source": [
    "<table>\n",
    "  <thead>\n",
    "  <tr>\n",
    "    <th>Food</th>\n",
    "    <th>Restaurant</th>\n",
    "    <th>Protein</th>\n",
    "    <th>Fat</th>\n",
    "    <th>Sugar</th>\n",
    "    <th>Carbs</th>\n",
    "  </tr>\n",
    "  </thead>\n",
    "  <tbody id=\"table\">\n",
    "    <!-- javascript generated data --> \n",
    "    </tr>\n",
    "      <th>SOMETHING</th>\n",
    "      <th>Somewhere</th>\n",
    "      <th>8</th>\n",
    "      <th>220</th>\n",
    "      <th>700</th>\n",
    "      <th>1100</th>\n",
    "    </tr>\n",
    "  </tbody>\n",
    "</table>"
   ]
  },
  {
   "cell_type": "code",
   "execution_count": null,
   "metadata": {
    "vscode": {
     "languageId": "javascript"
    }
   },
   "outputs": [],
   "source": [
    "// Static json, this can be used to test data prior to API and Model being ready\n",
    "const json = '[{\"_name\": \"SOMETHING\", \"_protein\": \"1\", \"_fat\": \"1\", \"_sugar\": \"1\", \"_carbs\": \"1\"}]';\n",
    "// Convert JSON string to JSON object\n",
    "const data = JSON.parse(json);\n",
    "\n",
    "// prepare HTML result container for new output\n",
    "const table = document.getElementById(\"table\");\n",
    "data.forEach(user => {\n",
    "    // build a row for each user\n",
    "    const tr = document.createElement(\"tr\");\n",
    "\n",
    "    // td's to build out each column of data\n",
    "    const name = document.createElement(\"td\");\n",
    "    const id = document.createElement(\"td\");\n",
    "    const action = document.createElement(\"td\");\n",
    "           \n",
    "    // add content from user data          \n",
    "    name.innerHTML = user._name; \n",
    "    id.innerHTML = user._uid; \n",
    "\n",
    "    // add action for update button\n",
    "    var updateBtn = document.createElement('input');\n",
    "    updateBtn.type = \"button\";\n",
    "    updateBtn.className = \"button\";\n",
    "    updateBtn.value = \"Update\";\n",
    "    updateBtn.style = \"margin-right:16px\";\n",
    "    updateBtn.onclick = function () {\n",
    "      alert(\"Update: \" + user._uid);\n",
    "    };\n",
    "    action.appendChild(updateBtn);\n",
    "\n",
    "    // add action for delete button\n",
    "    var deleteBtn = document.createElement('input');\n",
    "    deleteBtn.type = \"button\";\n",
    "    deleteBtn.className = \"button\";\n",
    "    deleteBtn.value = \"Delete\";\n",
    "    deleteBtn.style = \"margin-right:16px\"\n",
    "    deleteBtn.onclick = function () {\n",
    "      alert(\"Delete: \" + user._uid);\n",
    "    };\n",
    "    action.appendChild(deleteBtn);  \n",
    "\n",
    "    // add data to row\n",
    "    tr.appendChild(name);\n",
    "    tr.appendChild(id);\n",
    "    tr.appendChild(action);\n",
    "\n",
    "    // add row to table\n",
    "    table.appendChild(tr);\n",
    "});"
   ]
  }
 ],
 "metadata": {
  "kernelspec": {
   "display_name": "base",
   "language": "python",
   "name": "python3"
  },
  "language_info": {
   "name": "python",
   "version": "3.9.12 (main, Apr  5 2022, 06:56:58) \n[GCC 7.5.0]"
  },
  "orig_nbformat": 4,
  "vscode": {
   "interpreter": {
    "hash": "112989f40982219f9c2133127490be09f86560db102a13a350eb86b01002b443"
   }
  }
 },
 "nbformat": 4,
 "nbformat_minor": 2
}
